{
 "cells": [
  {
   "cell_type": "markdown",
   "metadata": {},
   "source": [
    "# OOP - Class "
   ]
  },
  {
   "cell_type": "markdown",
   "metadata": {},
   "source": [
    "## Exercise 1: \n",
    "Create a Player class with a name, a position, and a speed attributes. Set the initial value of speed to 1 and create any necessary methods.\n",
    "Then, \n",
    "1. Create two Player objects and print information about both players.\n",
    "2. Assign 8 to player 1's speed\n",
    "3. print information about both players."
   ]
  },
  {
   "cell_type": "code",
   "execution_count": 15,
   "metadata": {},
   "outputs": [
    {
     "name": "stdout",
     "output_type": "stream",
     "text": [
      "For player 1:\n",
      "speed = 1\tposition = nowhere\n",
      "For player 2:\n",
      "speed = 1\tposition = somewhere\n",
      "For player 1:\n",
      "speed = 8\tposition = nowhere\n"
     ]
    }
   ],
   "source": [
    "class Player:\n",
    "    \"\"\"This Player has a name, a position, and a speed attributes\"\"\"\n",
    "    def __init__(self,name,position):\n",
    "        self.name = name\n",
    "        self.position = position\n",
    "        self.speed = 1\n",
    "       \n",
    "    def assign_speed(self,speed):\n",
    "        self.speed = speed\n",
    "          \n",
    "    def print_info(self):\n",
    "        return f\"For {self.name}:\\nspeed = {self.speed}\\tposition = {self.position}\"\n",
    "        \n",
    "player1 = Player(\"player 1\", \"nowhere\")\n",
    "player2 = Player(\"player 2\", \"somewhere\")\n",
    "\n",
    "print (player1.print_info())\n",
    "print (player2.print_info())\n",
    "player1.assign_speed(8)\n",
    "print (player1.print_info())"
   ]
  },
  {
   "cell_type": "markdown",
   "metadata": {},
   "source": [
    "## Exercise 2: \n",
    "Create a class called Rectangle with height and length attributes and has following methods: \n",
    "- perimeter() : returns a perimeter of a rectangle object\n",
    "- area() : returns an area of a rectangle object\n",
    "\n",
    "Then,\n",
    "1. create two instances of Rectangle class\n",
    "2. print each rectangle's perimeter and determine which rectangle has larger perimeter\n",
    "3. print each rectangle's area and determine which rectangle has larger area"
   ]
  },
  {
   "cell_type": "code",
   "execution_count": null,
   "metadata": {},
   "outputs": [],
   "source": []
  },
  {
   "cell_type": "markdown",
   "metadata": {},
   "source": [
    "## Exercise 3: \n",
    "Create a class called Triangle with height and base attributes and has following methods:\n",
    "\n",
    "- perimeter() : returns a perimeter of a right triangle object\n",
    "- area() : returns an area of a right triangle object\n",
    "\n",
    "Then,\n",
    "\n",
    "- create two instances of Triangle class\n",
    "- print each triangle's perimeter and determine which triangle has larger perimeter\n",
    "- print each triangle's area and determine which triangle has larger area\n",
    "\n",
    "Use \n",
    "- perimeter of a right triangle = height + base + Square-Root((height \\** 2) + (base \\** 2)) \n",
    "- area of a right triangle = ( height * base ) / 2\n",
    "\n",
    "You'll need to <b>import math</b> library and use <b>math.sqrt()</b> function.\n",
    "\n"
   ]
  },
  {
   "cell_type": "code",
   "execution_count": null,
   "metadata": {},
   "outputs": [],
   "source": []
  },
  {
   "cell_type": "markdown",
   "metadata": {},
   "source": [
    "## Exercise 4: \n",
    "Write a program that maintains a list of movies, and the user can list all the movies, add a movie to the list, or delete a movie from the list. All input/output are done at the program level, not at a class level.\n",
    "\n",
    "\n",
    "For Python 1 Day 3 Challenge Exercise, you wrote a program that maintains a list of movies, and the user can list all the movies, add a movie to the list, or delete a movie from the list. Modify that program to use a <b>Movie object</b> to store name, year, and genre of a movie. Create any method you need to access these attributes but your method can not use <b>print</b> function. \n",
    "\n",
    "Additionally, create any function you need to make sure program neat. You may use <b>print</b> function in your function.\n"
   ]
  },
  {
   "cell_type": "code",
   "execution_count": null,
   "metadata": {},
   "outputs": [],
   "source": []
  },
  {
   "cell_type": "markdown",
   "metadata": {},
   "source": [
    "## Exercise 5: \n",
    "Create a class called Employee with \n",
    "- firstname,\n",
    "- lastname, \n",
    "- joined_date\n",
    "- active\n",
    "\n",
    "attributes and methods to retrieve each attribute.\n",
    "\n",
    "Then, write a program to \n",
    "- add 10 or more employees\n",
    "- print all employees' information\n",
    "- print all active employees' information\n",
    "\n",
    "Create any methods you need but all print statements should be called from your program, not in your class method!\n",
    "\n",
    "You must use below data set (but can add more):\n",
    "\n",
    "    data = [{\"first\":\"elmo\", \"last\":\"monster\", \"year\": 2000},\n",
    "            {\"first\":\"count\", \"last\":\"count\", \"year\": 1819},\n",
    "            {\"first\":\"big\", \"last\":\"bird\", \"year\": 2011},\n",
    "            {\"first\":\"cookie\", \"last\":\"monster\", \"year\": 2002},\n",
    "            {\"first\":\"bert\", \"last\": \"person\", \"year\": 2013},\n",
    "            {\"first\":\"ernie\", \"last\": \"person\", \"year\": 2013},\n",
    "            {\"first\":\"oscar\", \"last\": \"grouch\", \"year\": 1999},\n",
    "            {\"first\":\"zoe\", \"last\": \"cutie\", \"year\": 2015},\n",
    "            {\"first\":\"abby\", \"last\": \"cadabby\", \"year\": 2016},\n",
    "            {\"first\":\"prairie\", \"last\": \"dawn\", \"year\": 2020}\n",
    "       ]"
   ]
  },
  {
   "cell_type": "code",
   "execution_count": null,
   "metadata": {},
   "outputs": [],
   "source": []
  },
  {
   "cell_type": "code",
   "execution_count": null,
   "metadata": {},
   "outputs": [],
   "source": []
  }
 ],
 "metadata": {
  "kernelspec": {
   "display_name": "Python 3",
   "language": "python",
   "name": "python3"
  },
  "language_info": {
   "codemirror_mode": {
    "name": "ipython",
    "version": 3
   },
   "file_extension": ".py",
   "mimetype": "text/x-python",
   "name": "python",
   "nbconvert_exporter": "python",
   "pygments_lexer": "ipython3",
   "version": "3.8.8"
  }
 },
 "nbformat": 4,
 "nbformat_minor": 4
}
